{
 "cells": [
  {
   "cell_type": "markdown",
   "metadata": {},
   "source": [
    "As i need to design for the Least Recently Used Cache, so i have decided to create a dictionary which will store the keys along with its value. And to keep track of the memory or the number of keys to not extend more than the capacity i.e 5 in this case"
   ]
  }
 ],
 "metadata": {
  "kernelspec": {
   "display_name": "Python 3",
   "language": "python",
   "name": "python3"
  },
  "language_info": {
   "codemirror_mode": {
    "name": "ipython",
    "version": 3
   },
   "file_extension": ".py",
   "mimetype": "text/x-python",
   "name": "python",
   "nbconvert_exporter": "python",
   "pygments_lexer": "ipython3",
   "version": "3.7.4"
  }
 },
 "nbformat": 4,
 "nbformat_minor": 2
}
